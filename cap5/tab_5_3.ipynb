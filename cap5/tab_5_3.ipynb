{
 "cells": [
  {
   "cell_type": "markdown",
   "metadata": {},
   "source": [
    "\n",
    "# <span style=\"color:rgb(213,80,0)\">Theoretical size</span>\n",
    "\n",
    "This file creates theoretical parts of Tables 5.2 and 5.3\n",
    "\n",
    "## Sample size"
   ]
  },
  {
   "cell_type": "code",
   "execution_count": 1,
   "metadata": {},
   "source": [
    "n=[50 100 200 2000];"
   ],
   "outputs": []
  },
  {
   "cell_type": "markdown",
   "metadata": {},
   "source": [
    "## THEORETICAL INDIVIDUAL SIZE"
   ]
  },
  {
   "cell_type": "code",
   "execution_count": 2,
   "metadata": {},
   "source": [
    "p=2;\n",
    "\n",
    "pro2=1000*(1-betacdf(   n*chi2inv(0.99,1)./(n-p).^2  ,0.5,(n-p-1)/2));\n",
    "disp(pro2)"
   ],
   "outputs": [
    {
     "data": {
      "text/plain": [
       "    7.1666    8.5789    9.2891    9.9289"
      ]
     },
     "metadata": {},
     "execution_count":  2,
     "output_type": "execute_result"
    }
   ]
  },
  {
   "cell_type": "code",
   "execution_count": 3,
   "metadata": {},
   "source": [
    "\n",
    "p=10;\n",
    "\n",
    "pro10=1000*(1-betacdf(n*chi2inv(0.99,1)./(n-p).^2,0.5,(n-p-1)/2));\n",
    "disp(pro10)"
   ],
   "outputs": [
    {
     "data": {
      "text/plain": [
       "    2.7763    5.9551    7.8841    9.7807"
      ]
     },
     "metadata": {},
     "execution_count":  3,
     "output_type": "execute_result"
    }
   ]
  },
  {
   "cell_type": "code",
   "execution_count": 4,
   "metadata": {},
   "source": [
    "\n",
    "varn=\"n=\"+n;\n",
    "rown=[\"p=2\" \"p=10\"];\n",
    "TAB52=array2table([pro2; pro10],\"RowNames\",rown,\"VariableNames\",varn);\n",
    "disp('Theoretical individual size')"
   ],
   "outputs": [
    {
     "data": {
      "text/plain": [
       "Theoretical individual size"
      ]
     },
     "metadata": {},
     "execution_count":  4,
     "output_type": "execute_result"
    }
   ]
  },
  {
   "cell_type": "code",
   "execution_count": 5,
   "metadata": {},
   "source": [
    "disp(TAB52)"
   ],
   "outputs": [
    {
     "data": {
      "text/plain": [
       "             n=50     n=100     n=200     n=2000\n",
       "            ______    ______    ______    ______\n",
       "    p=2     7.1666    8.5789    9.2891    9.9289\n",
       "    p=10    2.7763    5.9551    7.8841    9.7807"
      ]
     },
     "metadata": {},
     "execution_count":  5,
     "output_type": "execute_result"
    }
   ]
  },
  {
   "cell_type": "markdown",
   "metadata": {},
   "source": [
    "\n",
    "## THEORETICAL SIMULTANEOUS SIZE"
   ]
  },
  {
   "cell_type": "code",
   "execution_count": 6,
   "metadata": {},
   "source": [
    "p=2;\n",
    "pstar=(betacdf(n.*chi2inv(1-0.01./n,1)./((n-p).^2),0.5,(n-p-1)/2));\n",
    "pstar2=1000*(1-pstar.^n);\n",
    "% disp(pstar2)\n",
    "\n",
    "p=10;\n",
    "pstar=(betacdf(n.*chi2inv(1-0.01./n,1)./((n-p).^2),0.5,(n-p-1)/2));\n",
    "pstar10=1000*(1-pstar.^n);\n",
    "%disp(pstar10)\n",
    "\n",
    "TAB53=array2table([pro2; pro10],\"RowNames\",rown,\"VariableNames\",varn);\n",
    "disp('Theoretical simultaneous size')"
   ],
   "outputs": [
    {
     "data": {
      "text/plain": [
       "Theoretical simultaneous size"
      ]
     },
     "metadata": {},
     "execution_count":  6,
     "output_type": "execute_result"
    }
   ]
  },
  {
   "cell_type": "code",
   "execution_count": 7,
   "metadata": {},
   "source": [
    "disp(TAB53)"
   ],
   "outputs": [
    {
     "data": {
      "text/plain": [
       "             n=50     n=100     n=200     n=2000\n",
       "            ______    ______    ______    ______\n",
       "    p=2     7.1666    8.5789    9.2891    9.9289\n",
       "    p=10    2.7763    5.9551    7.8841    9.7807"
      ]
     },
     "metadata": {},
     "execution_count":  7,
     "output_type": "execute_result"
    }
   ]
  },
  {
   "cell_type": "code",
   "execution_count": 8,
   "metadata": {},
   "source": [
    "\n",
    "%InsideREADME"
   ],
   "outputs": []
}
 ],
 "metadata": {
  "kernelspec": {
   "display_name": "MATLAB (matlabkernel)",
   "language": "matlab",
   "name": "matlab"
  },
  "language_info": {
   "file_extension": ".m",
   "mimetype": "text/matlab",
   "name": "matlab",
   "nbconvert_exporter": "matlab",
   "pygments_lexer": "matlab",
   "version": "25.1.0.2943329"
  }
 },
 "nbformat": 4,
 "nbformat_minor": 4
}